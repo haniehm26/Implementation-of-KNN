{
 "cells": [
  {
   "cell_type": "markdown",
   "id": "60777d50",
   "metadata": {},
   "source": [
    "Codes and documents by [Hanieh Mahdavi](https://www.linkedin.com/in/hanieh-mahdavi/)"
   ]
  },
  {
   "cell_type": "markdown",
   "id": "7c864178",
   "metadata": {},
   "source": [
    "The goal is to train a KNN and SVM model on a dataset, which is available [here](https://drive.google.com/file/d/15ocun97pttC2NHFB6JEDoYIUDk71QHHB/view)."
   ]
  },
  {
   "cell_type": "markdown",
   "id": "1c7c74d1",
   "metadata": {},
   "source": [
    "# Exploratory Data Analysis"
   ]
  },
  {
   "cell_type": "markdown",
   "id": "6cbd2768",
   "metadata": {},
   "source": [
    "## Load Data"
   ]
  },
  {
   "cell_type": "code",
   "execution_count": 1,
   "id": "81d48fdb",
   "metadata": {},
   "outputs": [],
   "source": [
    "import pandas as pd\n",
    "import matplotlib.pyplot as plt\n",
    "import numpy as np\n",
    "import seaborn as sns"
   ]
  },
  {
   "cell_type": "code",
   "execution_count": 2,
   "id": "3e30d3c0",
   "metadata": {},
   "outputs": [],
   "source": [
    "train_data = pd.read_csv('dataset/train.csv',  index_col=0)"
   ]
  },
  {
   "cell_type": "markdown",
   "id": "a52c51ab",
   "metadata": {},
   "source": [
    "## Analyze Data"
   ]
  },
  {
   "cell_type": "code",
   "execution_count": 3,
   "id": "a3f7ee35",
   "metadata": {},
   "outputs": [
    {
     "data": {
      "text/plain": [
       "(891, 11)"
      ]
     },
     "execution_count": 3,
     "metadata": {},
     "output_type": "execute_result"
    }
   ],
   "source": [
    "train_data.shape"
   ]
  },
  {
   "cell_type": "code",
   "execution_count": 4,
   "id": "5f729183",
   "metadata": {},
   "outputs": [
    {
     "data": {
      "text/html": [
       "<div>\n",
       "<style scoped>\n",
       "    .dataframe tbody tr th:only-of-type {\n",
       "        vertical-align: middle;\n",
       "    }\n",
       "\n",
       "    .dataframe tbody tr th {\n",
       "        vertical-align: top;\n",
       "    }\n",
       "\n",
       "    .dataframe thead th {\n",
       "        text-align: right;\n",
       "    }\n",
       "</style>\n",
       "<table border=\"1\" class=\"dataframe\">\n",
       "  <thead>\n",
       "    <tr style=\"text-align: right;\">\n",
       "      <th></th>\n",
       "      <th>Survived</th>\n",
       "      <th>Pclass</th>\n",
       "      <th>Name</th>\n",
       "      <th>Sex</th>\n",
       "      <th>Age</th>\n",
       "      <th>SibSp</th>\n",
       "      <th>Parch</th>\n",
       "      <th>Ticket</th>\n",
       "      <th>Fare</th>\n",
       "      <th>Cabin</th>\n",
       "      <th>Embarked</th>\n",
       "    </tr>\n",
       "    <tr>\n",
       "      <th>PassengerId</th>\n",
       "      <th></th>\n",
       "      <th></th>\n",
       "      <th></th>\n",
       "      <th></th>\n",
       "      <th></th>\n",
       "      <th></th>\n",
       "      <th></th>\n",
       "      <th></th>\n",
       "      <th></th>\n",
       "      <th></th>\n",
       "      <th></th>\n",
       "    </tr>\n",
       "  </thead>\n",
       "  <tbody>\n",
       "    <tr>\n",
       "      <th>1</th>\n",
       "      <td>0</td>\n",
       "      <td>3</td>\n",
       "      <td>Braund, Mr. Owen Harris</td>\n",
       "      <td>male</td>\n",
       "      <td>22.0</td>\n",
       "      <td>1</td>\n",
       "      <td>0</td>\n",
       "      <td>A/5 21171</td>\n",
       "      <td>7.2500</td>\n",
       "      <td>NaN</td>\n",
       "      <td>S</td>\n",
       "    </tr>\n",
       "    <tr>\n",
       "      <th>2</th>\n",
       "      <td>1</td>\n",
       "      <td>1</td>\n",
       "      <td>Cumings, Mrs. John Bradley (Florence Briggs Th...</td>\n",
       "      <td>female</td>\n",
       "      <td>38.0</td>\n",
       "      <td>1</td>\n",
       "      <td>0</td>\n",
       "      <td>PC 17599</td>\n",
       "      <td>71.2833</td>\n",
       "      <td>C85</td>\n",
       "      <td>C</td>\n",
       "    </tr>\n",
       "    <tr>\n",
       "      <th>3</th>\n",
       "      <td>1</td>\n",
       "      <td>3</td>\n",
       "      <td>Heikkinen, Miss. Laina</td>\n",
       "      <td>female</td>\n",
       "      <td>26.0</td>\n",
       "      <td>0</td>\n",
       "      <td>0</td>\n",
       "      <td>STON/O2. 3101282</td>\n",
       "      <td>7.9250</td>\n",
       "      <td>NaN</td>\n",
       "      <td>S</td>\n",
       "    </tr>\n",
       "    <tr>\n",
       "      <th>4</th>\n",
       "      <td>1</td>\n",
       "      <td>1</td>\n",
       "      <td>Futrelle, Mrs. Jacques Heath (Lily May Peel)</td>\n",
       "      <td>female</td>\n",
       "      <td>35.0</td>\n",
       "      <td>1</td>\n",
       "      <td>0</td>\n",
       "      <td>113803</td>\n",
       "      <td>53.1000</td>\n",
       "      <td>C123</td>\n",
       "      <td>S</td>\n",
       "    </tr>\n",
       "    <tr>\n",
       "      <th>5</th>\n",
       "      <td>0</td>\n",
       "      <td>3</td>\n",
       "      <td>Allen, Mr. William Henry</td>\n",
       "      <td>male</td>\n",
       "      <td>35.0</td>\n",
       "      <td>0</td>\n",
       "      <td>0</td>\n",
       "      <td>373450</td>\n",
       "      <td>8.0500</td>\n",
       "      <td>NaN</td>\n",
       "      <td>S</td>\n",
       "    </tr>\n",
       "  </tbody>\n",
       "</table>\n",
       "</div>"
      ],
      "text/plain": [
       "             Survived  Pclass  \\\n",
       "PassengerId                     \n",
       "1                   0       3   \n",
       "2                   1       1   \n",
       "3                   1       3   \n",
       "4                   1       1   \n",
       "5                   0       3   \n",
       "\n",
       "                                                          Name     Sex   Age  \\\n",
       "PassengerId                                                                    \n",
       "1                                      Braund, Mr. Owen Harris    male  22.0   \n",
       "2            Cumings, Mrs. John Bradley (Florence Briggs Th...  female  38.0   \n",
       "3                                       Heikkinen, Miss. Laina  female  26.0   \n",
       "4                 Futrelle, Mrs. Jacques Heath (Lily May Peel)  female  35.0   \n",
       "5                                     Allen, Mr. William Henry    male  35.0   \n",
       "\n",
       "             SibSp  Parch            Ticket     Fare Cabin Embarked  \n",
       "PassengerId                                                          \n",
       "1                1      0         A/5 21171   7.2500   NaN        S  \n",
       "2                1      0          PC 17599  71.2833   C85        C  \n",
       "3                0      0  STON/O2. 3101282   7.9250   NaN        S  \n",
       "4                1      0            113803  53.1000  C123        S  \n",
       "5                0      0            373450   8.0500   NaN        S  "
      ]
     },
     "execution_count": 4,
     "metadata": {},
     "output_type": "execute_result"
    }
   ],
   "source": [
    "train_data.head()"
   ]
  },
  {
   "cell_type": "code",
   "execution_count": 5,
   "id": "8d821bd8",
   "metadata": {},
   "outputs": [
    {
     "data": {
      "text/html": [
       "<div>\n",
       "<style scoped>\n",
       "    .dataframe tbody tr th:only-of-type {\n",
       "        vertical-align: middle;\n",
       "    }\n",
       "\n",
       "    .dataframe tbody tr th {\n",
       "        vertical-align: top;\n",
       "    }\n",
       "\n",
       "    .dataframe thead th {\n",
       "        text-align: right;\n",
       "    }\n",
       "</style>\n",
       "<table border=\"1\" class=\"dataframe\">\n",
       "  <thead>\n",
       "    <tr style=\"text-align: right;\">\n",
       "      <th></th>\n",
       "      <th>Survived</th>\n",
       "      <th>Pclass</th>\n",
       "      <th>Age</th>\n",
       "      <th>SibSp</th>\n",
       "      <th>Parch</th>\n",
       "      <th>Fare</th>\n",
       "    </tr>\n",
       "  </thead>\n",
       "  <tbody>\n",
       "    <tr>\n",
       "      <th>count</th>\n",
       "      <td>891.000000</td>\n",
       "      <td>891.000000</td>\n",
       "      <td>714.000000</td>\n",
       "      <td>891.000000</td>\n",
       "      <td>891.000000</td>\n",
       "      <td>891.000000</td>\n",
       "    </tr>\n",
       "    <tr>\n",
       "      <th>mean</th>\n",
       "      <td>0.383838</td>\n",
       "      <td>2.308642</td>\n",
       "      <td>29.699118</td>\n",
       "      <td>0.523008</td>\n",
       "      <td>0.381594</td>\n",
       "      <td>32.204208</td>\n",
       "    </tr>\n",
       "    <tr>\n",
       "      <th>std</th>\n",
       "      <td>0.486592</td>\n",
       "      <td>0.836071</td>\n",
       "      <td>14.526497</td>\n",
       "      <td>1.102743</td>\n",
       "      <td>0.806057</td>\n",
       "      <td>49.693429</td>\n",
       "    </tr>\n",
       "    <tr>\n",
       "      <th>min</th>\n",
       "      <td>0.000000</td>\n",
       "      <td>1.000000</td>\n",
       "      <td>0.420000</td>\n",
       "      <td>0.000000</td>\n",
       "      <td>0.000000</td>\n",
       "      <td>0.000000</td>\n",
       "    </tr>\n",
       "    <tr>\n",
       "      <th>25%</th>\n",
       "      <td>0.000000</td>\n",
       "      <td>2.000000</td>\n",
       "      <td>20.125000</td>\n",
       "      <td>0.000000</td>\n",
       "      <td>0.000000</td>\n",
       "      <td>7.910400</td>\n",
       "    </tr>\n",
       "    <tr>\n",
       "      <th>50%</th>\n",
       "      <td>0.000000</td>\n",
       "      <td>3.000000</td>\n",
       "      <td>28.000000</td>\n",
       "      <td>0.000000</td>\n",
       "      <td>0.000000</td>\n",
       "      <td>14.454200</td>\n",
       "    </tr>\n",
       "    <tr>\n",
       "      <th>75%</th>\n",
       "      <td>1.000000</td>\n",
       "      <td>3.000000</td>\n",
       "      <td>38.000000</td>\n",
       "      <td>1.000000</td>\n",
       "      <td>0.000000</td>\n",
       "      <td>31.000000</td>\n",
       "    </tr>\n",
       "    <tr>\n",
       "      <th>max</th>\n",
       "      <td>1.000000</td>\n",
       "      <td>3.000000</td>\n",
       "      <td>80.000000</td>\n",
       "      <td>8.000000</td>\n",
       "      <td>6.000000</td>\n",
       "      <td>512.329200</td>\n",
       "    </tr>\n",
       "  </tbody>\n",
       "</table>\n",
       "</div>"
      ],
      "text/plain": [
       "         Survived      Pclass         Age       SibSp       Parch        Fare\n",
       "count  891.000000  891.000000  714.000000  891.000000  891.000000  891.000000\n",
       "mean     0.383838    2.308642   29.699118    0.523008    0.381594   32.204208\n",
       "std      0.486592    0.836071   14.526497    1.102743    0.806057   49.693429\n",
       "min      0.000000    1.000000    0.420000    0.000000    0.000000    0.000000\n",
       "25%      0.000000    2.000000   20.125000    0.000000    0.000000    7.910400\n",
       "50%      0.000000    3.000000   28.000000    0.000000    0.000000   14.454200\n",
       "75%      1.000000    3.000000   38.000000    1.000000    0.000000   31.000000\n",
       "max      1.000000    3.000000   80.000000    8.000000    6.000000  512.329200"
      ]
     },
     "execution_count": 5,
     "metadata": {},
     "output_type": "execute_result"
    }
   ],
   "source": [
    "train_data.describe()"
   ]
  },
  {
   "cell_type": "code",
   "execution_count": 6,
   "id": "6140a023",
   "metadata": {},
   "outputs": [
    {
     "data": {
      "text/html": [
       "<div>\n",
       "<style scoped>\n",
       "    .dataframe tbody tr th:only-of-type {\n",
       "        vertical-align: middle;\n",
       "    }\n",
       "\n",
       "    .dataframe tbody tr th {\n",
       "        vertical-align: top;\n",
       "    }\n",
       "\n",
       "    .dataframe thead th {\n",
       "        text-align: right;\n",
       "    }\n",
       "</style>\n",
       "<table border=\"1\" class=\"dataframe\">\n",
       "  <thead>\n",
       "    <tr style=\"text-align: right;\">\n",
       "      <th></th>\n",
       "      <th>Name</th>\n",
       "      <th>Sex</th>\n",
       "      <th>Ticket</th>\n",
       "      <th>Cabin</th>\n",
       "      <th>Embarked</th>\n",
       "    </tr>\n",
       "  </thead>\n",
       "  <tbody>\n",
       "    <tr>\n",
       "      <th>count</th>\n",
       "      <td>891</td>\n",
       "      <td>891</td>\n",
       "      <td>891</td>\n",
       "      <td>204</td>\n",
       "      <td>889</td>\n",
       "    </tr>\n",
       "    <tr>\n",
       "      <th>unique</th>\n",
       "      <td>891</td>\n",
       "      <td>2</td>\n",
       "      <td>681</td>\n",
       "      <td>147</td>\n",
       "      <td>3</td>\n",
       "    </tr>\n",
       "    <tr>\n",
       "      <th>top</th>\n",
       "      <td>Braund, Mr. Owen Harris</td>\n",
       "      <td>male</td>\n",
       "      <td>347082</td>\n",
       "      <td>B96 B98</td>\n",
       "      <td>S</td>\n",
       "    </tr>\n",
       "    <tr>\n",
       "      <th>freq</th>\n",
       "      <td>1</td>\n",
       "      <td>577</td>\n",
       "      <td>7</td>\n",
       "      <td>4</td>\n",
       "      <td>644</td>\n",
       "    </tr>\n",
       "  </tbody>\n",
       "</table>\n",
       "</div>"
      ],
      "text/plain": [
       "                           Name   Sex  Ticket    Cabin Embarked\n",
       "count                       891   891     891      204      889\n",
       "unique                      891     2     681      147        3\n",
       "top     Braund, Mr. Owen Harris  male  347082  B96 B98        S\n",
       "freq                          1   577       7        4      644"
      ]
     },
     "execution_count": 6,
     "metadata": {},
     "output_type": "execute_result"
    }
   ],
   "source": [
    "train_data.describe(include=['object'])"
   ]
  },
  {
   "cell_type": "code",
   "execution_count": 7,
   "id": "992db5b0",
   "metadata": {},
   "outputs": [
    {
     "name": "stdout",
     "output_type": "stream",
     "text": [
      "<class 'pandas.core.frame.DataFrame'>\n",
      "Int64Index: 891 entries, 1 to 891\n",
      "Data columns (total 11 columns):\n",
      " #   Column    Non-Null Count  Dtype  \n",
      "---  ------    --------------  -----  \n",
      " 0   Survived  891 non-null    int64  \n",
      " 1   Pclass    891 non-null    int64  \n",
      " 2   Name      891 non-null    object \n",
      " 3   Sex       891 non-null    object \n",
      " 4   Age       714 non-null    float64\n",
      " 5   SibSp     891 non-null    int64  \n",
      " 6   Parch     891 non-null    int64  \n",
      " 7   Ticket    891 non-null    object \n",
      " 8   Fare      891 non-null    float64\n",
      " 9   Cabin     204 non-null    object \n",
      " 10  Embarked  889 non-null    object \n",
      "dtypes: float64(2), int64(4), object(5)\n",
      "memory usage: 83.5+ KB\n"
     ]
    }
   ],
   "source": [
    "train_data.info()"
   ]
  },
  {
   "cell_type": "markdown",
   "id": "aaac0baf",
   "metadata": {},
   "source": [
    "## Data Cleaning"
   ]
  },
  {
   "cell_type": "markdown",
   "id": "a2e707d8",
   "metadata": {},
   "source": [
    "### Handling NaN Entries & Columns"
   ]
  },
  {
   "cell_type": "code",
   "execution_count": 8,
   "id": "2ccf57b6",
   "metadata": {},
   "outputs": [],
   "source": [
    "def nan_column_names(data):\n",
    "    return data.columns[data.isna().any()].tolist()"
   ]
  },
  {
   "cell_type": "code",
   "execution_count": 9,
   "id": "9dc5cc1d",
   "metadata": {},
   "outputs": [],
   "source": [
    "def total_nan_entries(data, columns):\n",
    "    for col in columns:\n",
    "        print('Total', col, 'NaN Entries:', data[col].isna().sum())"
   ]
  },
  {
   "cell_type": "code",
   "execution_count": 10,
   "id": "a397265f",
   "metadata": {},
   "outputs": [
    {
     "name": "stdout",
     "output_type": "stream",
     "text": [
      "Total Age NaN Entries: 177\n",
      "Total Cabin NaN Entries: 687\n",
      "Total Embarked NaN Entries: 2\n"
     ]
    }
   ],
   "source": [
    "columns = nan_column_names(train_data)\n",
    "total_nan_entries(train_data, columns)"
   ]
  },
  {
   "cell_type": "code",
   "execution_count": 11,
   "id": "8294af0c",
   "metadata": {},
   "outputs": [],
   "source": [
    "def remove_column_nan_entries(data, column):\n",
    "    data.dropna(subset=column, inplace=True) "
   ]
  },
  {
   "cell_type": "code",
   "execution_count": 12,
   "id": "eaf094f5",
   "metadata": {},
   "outputs": [],
   "source": [
    "def remove_nan_columns(data, columns):\n",
    "    data.drop(columns, axis=1, inplace=True)"
   ]
  },
  {
   "cell_type": "code",
   "execution_count": 13,
   "id": "7e661f96",
   "metadata": {},
   "outputs": [],
   "source": [
    "def fill_nan_column_entries(data, column, value):\n",
    "    data[column].fillna(value, inplace=True)"
   ]
  },
  {
   "cell_type": "code",
   "execution_count": 14,
   "id": "235c8112",
   "metadata": {},
   "outputs": [],
   "source": [
    "remove_column_nan_entries(train_data, ['Embarked'])\n",
    "remove_nan_columns(train_data, ['Cabin', 'Name'])"
   ]
  },
  {
   "cell_type": "code",
   "execution_count": 15,
   "id": "807fe665",
   "metadata": {},
   "outputs": [
    {
     "data": {
      "text/plain": [
       "<AxesSubplot:xlabel='Age'>"
      ]
     },
     "execution_count": 15,
     "metadata": {},
     "output_type": "execute_result"
    },
    {
     "data": {
      "image/png": "[encoded data removed]",
      "text/plain": [
       "<Figure size 432x288 with 1 Axes>"
      ]
     },
     "metadata": {
      "needs_background": "light"
     },
     "output_type": "display_data"
    }
   ],
   "source": [
    "sns.boxplot(x=train_data['Age'])"
   ]
  },
  {
   "cell_type": "code",
   "execution_count": 16,
   "id": "c390069d",
   "metadata": {},
   "outputs": [
    {
     "name": "stdout",
     "output_type": "stream",
     "text": [
      "29.64209269662921\n",
      "28.0\n"
     ]
    }
   ],
   "source": [
    "print(train_data['Age'].mean())\n",
    "print(train_data['Age'].median())"
   ]
  },
  {
   "cell_type": "code",
   "execution_count": 17,
   "id": "2ffd6dc8",
   "metadata": {},
   "outputs": [],
   "source": [
    "fill_nan_column_entries(train_data, 'Age', train_data['Age'].mean())"
   ]
  },
  {
   "cell_type": "code",
   "execution_count": 18,
   "id": "83dc0f46",
   "metadata": {},
   "outputs": [
    {
     "name": "stdout",
     "output_type": "stream",
     "text": [
      "<class 'pandas.core.frame.DataFrame'>\n",
      "Int64Index: 889 entries, 1 to 891\n",
      "Data columns (total 9 columns):\n",
      " #   Column    Non-Null Count  Dtype  \n",
      "---  ------    --------------  -----  \n",
      " 0   Survived  889 non-null    int64  \n",
      " 1   Pclass    889 non-null    int64  \n",
      " 2   Sex       889 non-null    object \n",
      " 3   Age       889 non-null    float64\n",
      " 4   SibSp     889 non-null    int64  \n",
      " 5   Parch     889 non-null    int64  \n",
      " 6   Ticket    889 non-null    object \n",
      " 7   Fare      889 non-null    float64\n",
      " 8   Embarked  889 non-null    object \n",
      "dtypes: float64(2), int64(4), object(3)\n",
      "memory usage: 69.5+ KB\n"
     ]
    }
   ],
   "source": [
    "train_data.info()"
   ]
  },
  {
   "cell_type": "markdown",
   "id": "170a2812",
   "metadata": {},
   "source": [
    "### Handling Text and Categorical Attributes"
   ]
  },
  {
   "cell_type": "code",
   "execution_count": 19,
   "id": "3c0c4fb5",
   "metadata": {},
   "outputs": [
    {
     "data": {
      "text/html": [
       "<div>\n",
       "<style scoped>\n",
       "    .dataframe tbody tr th:only-of-type {\n",
       "        vertical-align: middle;\n",
       "    }\n",
       "\n",
       "    .dataframe tbody tr th {\n",
       "        vertical-align: top;\n",
       "    }\n",
       "\n",
       "    .dataframe thead th {\n",
       "        text-align: right;\n",
       "    }\n",
       "</style>\n",
       "<table border=\"1\" class=\"dataframe\">\n",
       "  <thead>\n",
       "    <tr style=\"text-align: right;\">\n",
       "      <th></th>\n",
       "      <th>Sex</th>\n",
       "      <th>Ticket</th>\n",
       "      <th>Embarked</th>\n",
       "    </tr>\n",
       "  </thead>\n",
       "  <tbody>\n",
       "    <tr>\n",
       "      <th>count</th>\n",
       "      <td>889</td>\n",
       "      <td>889</td>\n",
       "      <td>889</td>\n",
       "    </tr>\n",
       "    <tr>\n",
       "      <th>unique</th>\n",
       "      <td>2</td>\n",
       "      <td>680</td>\n",
       "      <td>3</td>\n",
       "    </tr>\n",
       "    <tr>\n",
       "      <th>top</th>\n",
       "      <td>male</td>\n",
       "      <td>347082</td>\n",
       "      <td>S</td>\n",
       "    </tr>\n",
       "    <tr>\n",
       "      <th>freq</th>\n",
       "      <td>577</td>\n",
       "      <td>7</td>\n",
       "      <td>644</td>\n",
       "    </tr>\n",
       "  </tbody>\n",
       "</table>\n",
       "</div>"
      ],
      "text/plain": [
       "         Sex  Ticket Embarked\n",
       "count    889     889      889\n",
       "unique     2     680        3\n",
       "top     male  347082        S\n",
       "freq     577       7      644"
      ]
     },
     "execution_count": 19,
     "metadata": {},
     "output_type": "execute_result"
    }
   ],
   "source": [
    "train_data.describe(include=['object'])"
   ]
  },
  {
   "cell_type": "markdown",
   "id": "af2d7f99",
   "metadata": {},
   "source": [
    "#### One-Hot Encoder"
   ]
  },
  {
   "cell_type": "code",
   "execution_count": 20,
   "id": "7465224a",
   "metadata": {},
   "outputs": [
    {
     "data": {
      "text/plain": [
       "Sex   \n",
       "male      577\n",
       "female    312\n",
       "dtype: int64"
      ]
     },
     "execution_count": 20,
     "metadata": {},
     "output_type": "execute_result"
    }
   ],
   "source": [
    "train_data.value_counts(['Sex'])"
   ]
  },
  {
   "cell_type": "code",
   "execution_count": 21,
   "id": "2bde0811",
   "metadata": {},
   "outputs": [
    {
     "data": {
      "text/plain": [
       "Embarked\n",
       "S           644\n",
       "C           168\n",
       "Q            77\n",
       "dtype: int64"
      ]
     },
     "execution_count": 21,
     "metadata": {},
     "output_type": "execute_result"
    }
   ],
   "source": [
    "train_data.value_counts(['Embarked'])"
   ]
  },
  {
   "cell_type": "code",
   "execution_count": 22,
   "id": "6f7e56c1",
   "metadata": {},
   "outputs": [
    {
     "data": {
      "text/plain": [
       "Pclass\n",
       "3         491\n",
       "1         214\n",
       "2         184\n",
       "dtype: int64"
      ]
     },
     "execution_count": 22,
     "metadata": {},
     "output_type": "execute_result"
    }
   ],
   "source": [
    "train_data.value_counts(['Pclass'])"
   ]
  },
  {
   "cell_type": "code",
   "execution_count": 23,
   "id": "eb5bce63",
   "metadata": {},
   "outputs": [],
   "source": [
    "def one_hot_enc(data, columns):\n",
    "    return pd.get_dummies(data, columns=columns, prefix=columns)"
   ]
  },
  {
   "cell_type": "code",
   "execution_count": 24,
   "id": "df069e01",
   "metadata": {},
   "outputs": [],
   "source": [
    "train_data = one_hot_enc(train_data, ['Sex', 'Embarked', 'Pclass'])"
   ]
  },
  {
   "cell_type": "code",
   "execution_count": 25,
   "id": "4d6b09dd",
   "metadata": {},
   "outputs": [
    {
     "name": "stdout",
     "output_type": "stream",
     "text": [
      "<class 'pandas.core.frame.DataFrame'>\n",
      "Int64Index: 889 entries, 1 to 891\n",
      "Data columns (total 14 columns):\n",
      " #   Column      Non-Null Count  Dtype  \n",
      "---  ------      --------------  -----  \n",
      " 0   Survived    889 non-null    int64  \n",
      " 1   Age         889 non-null    float64\n",
      " 2   SibSp       889 non-null    int64  \n",
      " 3   Parch       889 non-null    int64  \n",
      " 4   Ticket      889 non-null    object \n",
      " 5   Fare        889 non-null    float64\n",
      " 6   Sex_female  889 non-null    uint8  \n",
      " 7   Sex_male    889 non-null    uint8  \n",
      " 8   Embarked_C  889 non-null    uint8  \n",
      " 9   Embarked_Q  889 non-null    uint8  \n",
      " 10  Embarked_S  889 non-null    uint8  \n",
      " 11  Pclass_1    889 non-null    uint8  \n",
      " 12  Pclass_2    889 non-null    uint8  \n",
      " 13  Pclass_3    889 non-null    uint8  \n",
      "dtypes: float64(2), int64(3), object(1), uint8(8)\n",
      "memory usage: 55.6+ KB\n"
     ]
    }
   ],
   "source": [
    "train_data.info()"
   ]
  },
  {
   "cell_type": "markdown",
   "id": "1d540f5a",
   "metadata": {},
   "source": [
    "#### Frequency Encoder"
   ]
  },
  {
   "cell_type": "code",
   "execution_count": 26,
   "id": "f61d5e5e",
   "metadata": {},
   "outputs": [
    {
     "data": {
      "text/plain": [
       "347082      7\n",
       "CA. 2343    7\n",
       "1601        7\n",
       "3101295     6\n",
       "CA 2144     6\n",
       "           ..\n",
       "9234        1\n",
       "19988       1\n",
       "2693        1\n",
       "PC 17612    1\n",
       "370376      1\n",
       "Name: Ticket, Length: 680, dtype: int64"
      ]
     },
     "execution_count": 26,
     "metadata": {},
     "output_type": "execute_result"
    }
   ],
   "source": [
    "train_data['Ticket'].value_counts()"
   ]
  },
  {
   "cell_type": "code",
   "execution_count": 27,
   "id": "9c912f80",
   "metadata": {},
   "outputs": [],
   "source": [
    "def frequency_enc(data, column):\n",
    "    freq_enc = data[column].value_counts() / len(data)\n",
    "    data[column + '_freq'] = data[column].apply(lambda x: freq_enc[x])\n",
    "    data.drop([column], axis=1, inplace=True)"
   ]
  },
  {
   "cell_type": "code",
   "execution_count": 28,
   "id": "b22b667b",
   "metadata": {},
   "outputs": [],
   "source": [
    "frequency_enc(train_data, 'Ticket')"
   ]
  },
  {
   "cell_type": "code",
   "execution_count": 29,
   "id": "33709fa3",
   "metadata": {},
   "outputs": [
    {
     "data": {
      "text/html": [
       "<div>\n",
       "<style scoped>\n",
       "    .dataframe tbody tr th:only-of-type {\n",
       "        vertical-align: middle;\n",
       "    }\n",
       "\n",
       "    .dataframe tbody tr th {\n",
       "        vertical-align: top;\n",
       "    }\n",
       "\n",
       "    .dataframe thead th {\n",
       "        text-align: right;\n",
       "    }\n",
       "</style>\n",
       "<table border=\"1\" class=\"dataframe\">\n",
       "  <thead>\n",
       "    <tr style=\"text-align: right;\">\n",
       "      <th></th>\n",
       "      <th>Survived</th>\n",
       "      <th>Age</th>\n",
       "      <th>SibSp</th>\n",
       "      <th>Parch</th>\n",
       "      <th>Fare</th>\n",
       "      <th>Sex_female</th>\n",
       "      <th>Sex_male</th>\n",
       "      <th>Embarked_C</th>\n",
       "      <th>Embarked_Q</th>\n",
       "      <th>Embarked_S</th>\n",
       "      <th>Pclass_1</th>\n",
       "      <th>Pclass_2</th>\n",
       "      <th>Pclass_3</th>\n",
       "      <th>Ticket_freq</th>\n",
       "    </tr>\n",
       "    <tr>\n",
       "      <th>PassengerId</th>\n",
       "      <th></th>\n",
       "      <th></th>\n",
       "      <th></th>\n",
       "      <th></th>\n",
       "      <th></th>\n",
       "      <th></th>\n",
       "      <th></th>\n",
       "      <th></th>\n",
       "      <th></th>\n",
       "      <th></th>\n",
       "      <th></th>\n",
       "      <th></th>\n",
       "      <th></th>\n",
       "      <th></th>\n",
       "    </tr>\n",
       "  </thead>\n",
       "  <tbody>\n",
       "    <tr>\n",
       "      <th>1</th>\n",
       "      <td>0</td>\n",
       "      <td>22.0</td>\n",
       "      <td>1</td>\n",
       "      <td>0</td>\n",
       "      <td>7.2500</td>\n",
       "      <td>0</td>\n",
       "      <td>1</td>\n",
       "      <td>0</td>\n",
       "      <td>0</td>\n",
       "      <td>1</td>\n",
       "      <td>0</td>\n",
       "      <td>0</td>\n",
       "      <td>1</td>\n",
       "      <td>0.001125</td>\n",
       "    </tr>\n",
       "    <tr>\n",
       "      <th>2</th>\n",
       "      <td>1</td>\n",
       "      <td>38.0</td>\n",
       "      <td>1</td>\n",
       "      <td>0</td>\n",
       "      <td>71.2833</td>\n",
       "      <td>1</td>\n",
       "      <td>0</td>\n",
       "      <td>1</td>\n",
       "      <td>0</td>\n",
       "      <td>0</td>\n",
       "      <td>1</td>\n",
       "      <td>0</td>\n",
       "      <td>0</td>\n",
       "      <td>0.001125</td>\n",
       "    </tr>\n",
       "    <tr>\n",
       "      <th>3</th>\n",
       "      <td>1</td>\n",
       "      <td>26.0</td>\n",
       "      <td>0</td>\n",
       "      <td>0</td>\n",
       "      <td>7.9250</td>\n",
       "      <td>1</td>\n",
       "      <td>0</td>\n",
       "      <td>0</td>\n",
       "      <td>0</td>\n",
       "      <td>1</td>\n",
       "      <td>0</td>\n",
       "      <td>0</td>\n",
       "      <td>1</td>\n",
       "      <td>0.001125</td>\n",
       "    </tr>\n",
       "    <tr>\n",
       "      <th>4</th>\n",
       "      <td>1</td>\n",
       "      <td>35.0</td>\n",
       "      <td>1</td>\n",
       "      <td>0</td>\n",
       "      <td>53.1000</td>\n",
       "      <td>1</td>\n",
       "      <td>0</td>\n",
       "      <td>0</td>\n",
       "      <td>0</td>\n",
       "      <td>1</td>\n",
       "      <td>1</td>\n",
       "      <td>0</td>\n",
       "      <td>0</td>\n",
       "      <td>0.002250</td>\n",
       "    </tr>\n",
       "    <tr>\n",
       "      <th>5</th>\n",
       "      <td>0</td>\n",
       "      <td>35.0</td>\n",
       "      <td>0</td>\n",
       "      <td>0</td>\n",
       "      <td>8.0500</td>\n",
       "      <td>0</td>\n",
       "      <td>1</td>\n",
       "      <td>0</td>\n",
       "      <td>0</td>\n",
       "      <td>1</td>\n",
       "      <td>0</td>\n",
       "      <td>0</td>\n",
       "      <td>1</td>\n",
       "      <td>0.001125</td>\n",
       "    </tr>\n",
       "  </tbody>\n",
       "</table>\n",
       "</div>"
      ],
      "text/plain": [
       "             Survived   Age  SibSp  Parch     Fare  Sex_female  Sex_male  \\\n",
       "PassengerId                                                                \n",
       "1                   0  22.0      1      0   7.2500           0         1   \n",
       "2                   1  38.0      1      0  71.2833           1         0   \n",
       "3                   1  26.0      0      0   7.9250           1         0   \n",
       "4                   1  35.0      1      0  53.1000           1         0   \n",
       "5                   0  35.0      0      0   8.0500           0         1   \n",
       "\n",
       "             Embarked_C  Embarked_Q  Embarked_S  Pclass_1  Pclass_2  Pclass_3  \\\n",
       "PassengerId                                                                     \n",
       "1                     0           0           1         0         0         1   \n",
       "2                     1           0           0         1         0         0   \n",
       "3                     0           0           1         0         0         1   \n",
       "4                     0           0           1         1         0         0   \n",
       "5                     0           0           1         0         0         1   \n",
       "\n",
       "             Ticket_freq  \n",
       "PassengerId               \n",
       "1               0.001125  \n",
       "2               0.001125  \n",
       "3               0.001125  \n",
       "4               0.002250  \n",
       "5               0.001125  "
      ]
     },
     "execution_count": 29,
     "metadata": {},
     "output_type": "execute_result"
    }
   ],
   "source": [
    "train_data.head()"
   ]
  },
  {
   "cell_type": "markdown",
   "id": "063d4c91",
   "metadata": {},
   "source": [
    "### Handling Outliers"
   ]
  },
  {
   "cell_type": "code",
   "execution_count": 30,
   "id": "54a68c7f",
   "metadata": {},
   "outputs": [
    {
     "data": {
      "text/html": [
       "<div>\n",
       "<style scoped>\n",
       "    .dataframe tbody tr th:only-of-type {\n",
       "        vertical-align: middle;\n",
       "    }\n",
       "\n",
       "    .dataframe tbody tr th {\n",
       "        vertical-align: top;\n",
       "    }\n",
       "\n",
       "    .dataframe thead th {\n",
       "        text-align: right;\n",
       "    }\n",
       "</style>\n",
       "<table border=\"1\" class=\"dataframe\">\n",
       "  <thead>\n",
       "    <tr style=\"text-align: right;\">\n",
       "      <th></th>\n",
       "      <th>Survived</th>\n",
       "      <th>Age</th>\n",
       "      <th>SibSp</th>\n",
       "      <th>Parch</th>\n",
       "      <th>Fare</th>\n",
       "      <th>Sex_female</th>\n",
       "      <th>Sex_male</th>\n",
       "      <th>Embarked_C</th>\n",
       "      <th>Embarked_Q</th>\n",
       "      <th>Embarked_S</th>\n",
       "      <th>Pclass_1</th>\n",
       "      <th>Pclass_2</th>\n",
       "      <th>Pclass_3</th>\n",
       "      <th>Ticket_freq</th>\n",
       "    </tr>\n",
       "  </thead>\n",
       "  <tbody>\n",
       "    <tr>\n",
       "      <th>count</th>\n",
       "      <td>889.000000</td>\n",
       "      <td>889.000000</td>\n",
       "      <td>889.000000</td>\n",
       "      <td>889.000000</td>\n",
       "      <td>889.000000</td>\n",
       "      <td>889.000000</td>\n",
       "      <td>889.000000</td>\n",
       "      <td>889.000000</td>\n",
       "      <td>889.000000</td>\n",
       "      <td>889.000000</td>\n",
       "      <td>889.000000</td>\n",
       "      <td>889.000000</td>\n",
       "      <td>889.000000</td>\n",
       "      <td>889.000000</td>\n",
       "    </tr>\n",
       "    <tr>\n",
       "      <th>mean</th>\n",
       "      <td>0.382452</td>\n",
       "      <td>29.642093</td>\n",
       "      <td>0.524184</td>\n",
       "      <td>0.382452</td>\n",
       "      <td>32.096681</td>\n",
       "      <td>0.350956</td>\n",
       "      <td>0.649044</td>\n",
       "      <td>0.188976</td>\n",
       "      <td>0.086614</td>\n",
       "      <td>0.724409</td>\n",
       "      <td>0.240720</td>\n",
       "      <td>0.206974</td>\n",
       "      <td>0.552306</td>\n",
       "      <td>0.002011</td>\n",
       "    </tr>\n",
       "    <tr>\n",
       "      <th>std</th>\n",
       "      <td>0.486260</td>\n",
       "      <td>12.968346</td>\n",
       "      <td>1.103705</td>\n",
       "      <td>0.806761</td>\n",
       "      <td>49.697504</td>\n",
       "      <td>0.477538</td>\n",
       "      <td>0.477538</td>\n",
       "      <td>0.391710</td>\n",
       "      <td>0.281427</td>\n",
       "      <td>0.447063</td>\n",
       "      <td>0.427761</td>\n",
       "      <td>0.405365</td>\n",
       "      <td>0.497536</td>\n",
       "      <td>0.001533</td>\n",
       "    </tr>\n",
       "    <tr>\n",
       "      <th>min</th>\n",
       "      <td>0.000000</td>\n",
       "      <td>0.420000</td>\n",
       "      <td>0.000000</td>\n",
       "      <td>0.000000</td>\n",
       "      <td>0.000000</td>\n",
       "      <td>0.000000</td>\n",
       "      <td>0.000000</td>\n",
       "      <td>0.000000</td>\n",
       "      <td>0.000000</td>\n",
       "      <td>0.000000</td>\n",
       "      <td>0.000000</td>\n",
       "      <td>0.000000</td>\n",
       "      <td>0.000000</td>\n",
       "      <td>0.001125</td>\n",
       "    </tr>\n",
       "    <tr>\n",
       "      <th>25%</th>\n",
       "      <td>0.000000</td>\n",
       "      <td>22.000000</td>\n",
       "      <td>0.000000</td>\n",
       "      <td>0.000000</td>\n",
       "      <td>7.895800</td>\n",
       "      <td>0.000000</td>\n",
       "      <td>0.000000</td>\n",
       "      <td>0.000000</td>\n",
       "      <td>0.000000</td>\n",
       "      <td>0.000000</td>\n",
       "      <td>0.000000</td>\n",
       "      <td>0.000000</td>\n",
       "      <td>0.000000</td>\n",
       "      <td>0.001125</td>\n",
       "    </tr>\n",
       "    <tr>\n",
       "      <th>50%</th>\n",
       "      <td>0.000000</td>\n",
       "      <td>29.642093</td>\n",
       "      <td>0.000000</td>\n",
       "      <td>0.000000</td>\n",
       "      <td>14.454200</td>\n",
       "      <td>0.000000</td>\n",
       "      <td>1.000000</td>\n",
       "      <td>0.000000</td>\n",
       "      <td>0.000000</td>\n",
       "      <td>1.000000</td>\n",
       "      <td>0.000000</td>\n",
       "      <td>0.000000</td>\n",
       "      <td>1.000000</td>\n",
       "      <td>0.001125</td>\n",
       "    </tr>\n",
       "    <tr>\n",
       "      <th>75%</th>\n",
       "      <td>1.000000</td>\n",
       "      <td>35.000000</td>\n",
       "      <td>1.000000</td>\n",
       "      <td>0.000000</td>\n",
       "      <td>31.000000</td>\n",
       "      <td>1.000000</td>\n",
       "      <td>1.000000</td>\n",
       "      <td>0.000000</td>\n",
       "      <td>0.000000</td>\n",
       "      <td>1.000000</td>\n",
       "      <td>0.000000</td>\n",
       "      <td>0.000000</td>\n",
       "      <td>1.000000</td>\n",
       "      <td>0.002250</td>\n",
       "    </tr>\n",
       "    <tr>\n",
       "      <th>max</th>\n",
       "      <td>1.000000</td>\n",
       "      <td>80.000000</td>\n",
       "      <td>8.000000</td>\n",
       "      <td>6.000000</td>\n",
       "      <td>512.329200</td>\n",
       "      <td>1.000000</td>\n",
       "      <td>1.000000</td>\n",
       "      <td>1.000000</td>\n",
       "      <td>1.000000</td>\n",
       "      <td>1.000000</td>\n",
       "      <td>1.000000</td>\n",
       "      <td>1.000000</td>\n",
       "      <td>1.000000</td>\n",
       "      <td>0.007874</td>\n",
       "    </tr>\n",
       "  </tbody>\n",
       "</table>\n",
       "</div>"
      ],
      "text/plain": [
       "         Survived         Age       SibSp       Parch        Fare  Sex_female  \\\n",
       "count  889.000000  889.000000  889.000000  889.000000  889.000000  889.000000   \n",
       "mean     0.382452   29.642093    0.524184    0.382452   32.096681    0.350956   \n",
       "std      0.486260   12.968346    1.103705    0.806761   49.697504    0.477538   \n",
       "min      0.000000    0.420000    0.000000    0.000000    0.000000    0.000000   \n",
       "25%      0.000000   22.000000    0.000000    0.000000    7.895800    0.000000   \n",
       "50%      0.000000   29.642093    0.000000    0.000000   14.454200    0.000000   \n",
       "75%      1.000000   35.000000    1.000000    0.000000   31.000000    1.000000   \n",
       "max      1.000000   80.000000    8.000000    6.000000  512.329200    1.000000   \n",
       "\n",
       "         Sex_male  Embarked_C  Embarked_Q  Embarked_S    Pclass_1    Pclass_2  \\\n",
       "count  889.000000  889.000000  889.000000  889.000000  889.000000  889.000000   \n",
       "mean     0.649044    0.188976    0.086614    0.724409    0.240720    0.206974   \n",
       "std      0.477538    0.391710    0.281427    0.447063    0.427761    0.405365   \n",
       "min      0.000000    0.000000    0.000000    0.000000    0.000000    0.000000   \n",
       "25%      0.000000    0.000000    0.000000    0.000000    0.000000    0.000000   \n",
       "50%      1.000000    0.000000    0.000000    1.000000    0.000000    0.000000   \n",
       "75%      1.000000    0.000000    0.000000    1.000000    0.000000    0.000000   \n",
       "max      1.000000    1.000000    1.000000    1.000000    1.000000    1.000000   \n",
       "\n",
       "         Pclass_3  Ticket_freq  \n",
       "count  889.000000   889.000000  \n",
       "mean     0.552306     0.002011  \n",
       "std      0.497536     0.001533  \n",
       "min      0.000000     0.001125  \n",
       "25%      0.000000     0.001125  \n",
       "50%      1.000000     0.001125  \n",
       "75%      1.000000     0.002250  \n",
       "max      1.000000     0.007874  "
      ]
     },
     "execution_count": 30,
     "metadata": {},
     "output_type": "execute_result"
    }
   ],
   "source": [
    "train_data.describe()"
   ]
  },
  {
   "cell_type": "code",
   "execution_count": 31,
   "id": "da2dbbf6",
   "metadata": {},
   "outputs": [],
   "source": [
    "def plot_outliers(col):\n",
    "    sns.boxplot(x=col)"
   ]
  },
  {
   "cell_type": "code",
   "execution_count": 32,
   "id": "15bb5757",
   "metadata": {},
   "outputs": [],
   "source": [
    "def calculate_quantile(data, column, q):\n",
    "    h_q = data[column].quantile(q)\n",
    "    print('high quantile on data:', h_q)\n",
    "    return h_q"
   ]
  },
  {
   "cell_type": "code",
   "execution_count": 33,
   "id": "205e3433",
   "metadata": {},
   "outputs": [],
   "source": [
    "def remove_outliers(data, column, q):\n",
    "    return data[data[column] < q]"
   ]
  },
  {
   "cell_type": "markdown",
   "id": "90925991",
   "metadata": {},
   "source": [
    "#### Age"
   ]
  },
  {
   "cell_type": "code",
   "execution_count": 34,
   "id": "46f40bbe",
   "metadata": {
    "scrolled": true
   },
   "outputs": [
    {
     "data": {
      "image/png": "[encoded data removed]",
      "text/plain": [
       "<Figure size 432x288 with 1 Axes>"
      ]
     },
     "metadata": {
      "needs_background": "light"
     },
     "output_type": "display_data"
    }
   ],
   "source": [
    "plot_outliers(train_data['Age'])"
   ]
  },
  {
   "cell_type": "code",
   "execution_count": 35,
   "id": "d55768c0",
   "metadata": {},
   "outputs": [
    {
     "name": "stdout",
     "output_type": "stream",
     "text": [
      "high quantile on data: 65.0\n"
     ]
    }
   ],
   "source": [
    "age_q = calculate_quantile(train_data, 'Age', 0.99)\n",
    "train_data = remove_outliers(train_data, 'Age', age_q)"
   ]
  },
  {
   "cell_type": "markdown",
   "id": "4f8d8569",
   "metadata": {},
   "source": [
    "#### Fare"
   ]
  },
  {
   "cell_type": "code",
   "execution_count": 36,
   "id": "249705e7",
   "metadata": {},
   "outputs": [
    {
     "data": {
      "image/png": "[encoded data removed]",
      "text/plain": [
       "<Figure size 432x288 with 1 Axes>"
      ]
     },
     "metadata": {
      "needs_background": "light"
     },
     "output_type": "display_data"
    }
   ],
   "source": [
    "plot_outliers(train_data['Fare'])"
   ]
  },
  {
   "cell_type": "code",
   "execution_count": 37,
   "id": "36b2cb1e",
   "metadata": {},
   "outputs": [
    {
     "name": "stdout",
     "output_type": "stream",
     "text": [
      "high quantile on data: 211.3375\n"
     ]
    }
   ],
   "source": [
    "fare_q = calculate_quantile(train_data, 'Fare', 0.98)\n",
    "train_data = remove_outliers(train_data, 'Fare', fare_q)"
   ]
  },
  {
   "cell_type": "markdown",
   "id": "04b84dd6",
   "metadata": {},
   "source": [
    "#### SibSp"
   ]
  },
  {
   "cell_type": "code",
   "execution_count": 38,
   "id": "f19c49bf",
   "metadata": {},
   "outputs": [
    {
     "data": {
      "image/png": "[encoded data removed]",
      "text/plain": [
       "<Figure size 432x288 with 1 Axes>"
      ]
     },
     "metadata": {
      "needs_background": "light"
     },
     "output_type": "display_data"
    }
   ],
   "source": [
    "plot_outliers(train_data['SibSp'])"
   ]
  },
  {
   "cell_type": "code",
   "execution_count": 39,
   "id": "5090352a",
   "metadata": {},
   "outputs": [
    {
     "name": "stdout",
     "output_type": "stream",
     "text": [
      "high quantile on data: 5.0\n"
     ]
    }
   ],
   "source": [
    "sibsp_q = calculate_quantile(train_data, 'SibSp', 0.99)\n",
    "train_data = remove_outliers(train_data, 'SibSp', sibsp_q)"
   ]
  },
  {
   "cell_type": "markdown",
   "id": "5b8d8f58",
   "metadata": {},
   "source": [
    "#### Parch"
   ]
  },
  {
   "cell_type": "code",
   "execution_count": 40,
   "id": "35500a46",
   "metadata": {},
   "outputs": [
    {
     "data": {
      "image/png": "[encoded data removed]",
      "text/plain": [
       "<Figure size 432x288 with 1 Axes>"
      ]
     },
     "metadata": {
      "needs_background": "light"
     },
     "output_type": "display_data"
    }
   ],
   "source": [
    "plot_outliers(train_data['Parch'])"
   ]
  },
  {
   "cell_type": "code",
   "execution_count": 41,
   "id": "f7424a82",
   "metadata": {},
   "outputs": [
    {
     "name": "stdout",
     "output_type": "stream",
     "text": [
      "high quantile on data: 3.5499999999999545\n"
     ]
    }
   ],
   "source": [
    "parch_q = calculate_quantile(train_data, 'Parch', 0.99)\n",
    "train_data = remove_outliers(train_data, 'Parch', parch_q)"
   ]
  },
  {
   "cell_type": "code",
   "execution_count": 42,
   "id": "b6c33a37",
   "metadata": {},
   "outputs": [
    {
     "data": {
      "text/html": [
       "<div>\n",
       "<style scoped>\n",
       "    .dataframe tbody tr th:only-of-type {\n",
       "        vertical-align: middle;\n",
       "    }\n",
       "\n",
       "    .dataframe tbody tr th {\n",
       "        vertical-align: top;\n",
       "    }\n",
       "\n",
       "    .dataframe thead th {\n",
       "        text-align: right;\n",
       "    }\n",
       "</style>\n",
       "<table border=\"1\" class=\"dataframe\">\n",
       "  <thead>\n",
       "    <tr style=\"text-align: right;\">\n",
       "      <th></th>\n",
       "      <th>Survived</th>\n",
       "      <th>Age</th>\n",
       "      <th>SibSp</th>\n",
       "      <th>Parch</th>\n",
       "      <th>Fare</th>\n",
       "      <th>Sex_female</th>\n",
       "      <th>Sex_male</th>\n",
       "      <th>Embarked_C</th>\n",
       "      <th>Embarked_Q</th>\n",
       "      <th>Embarked_S</th>\n",
       "      <th>Pclass_1</th>\n",
       "      <th>Pclass_2</th>\n",
       "      <th>Pclass_3</th>\n",
       "      <th>Ticket_freq</th>\n",
       "    </tr>\n",
       "  </thead>\n",
       "  <tbody>\n",
       "    <tr>\n",
       "      <th>count</th>\n",
       "      <td>837.000000</td>\n",
       "      <td>837.000000</td>\n",
       "      <td>837.000000</td>\n",
       "      <td>837.000000</td>\n",
       "      <td>837.000000</td>\n",
       "      <td>837.000000</td>\n",
       "      <td>837.000000</td>\n",
       "      <td>837.000000</td>\n",
       "      <td>837.000000</td>\n",
       "      <td>837.000000</td>\n",
       "      <td>837.000000</td>\n",
       "      <td>837.000000</td>\n",
       "      <td>837.000000</td>\n",
       "      <td>837.000000</td>\n",
       "    </tr>\n",
       "    <tr>\n",
       "      <th>mean</th>\n",
       "      <td>0.387097</td>\n",
       "      <td>29.095032</td>\n",
       "      <td>0.433692</td>\n",
       "      <td>0.298686</td>\n",
       "      <td>25.832665</td>\n",
       "      <td>0.345281</td>\n",
       "      <td>0.654719</td>\n",
       "      <td>0.182796</td>\n",
       "      <td>0.088411</td>\n",
       "      <td>0.728793</td>\n",
       "      <td>0.224612</td>\n",
       "      <td>0.217443</td>\n",
       "      <td>0.557945</td>\n",
       "      <td>0.001864</td>\n",
       "    </tr>\n",
       "    <tr>\n",
       "      <th>std</th>\n",
       "      <td>0.487377</td>\n",
       "      <td>12.241444</td>\n",
       "      <td>0.812264</td>\n",
       "      <td>0.627641</td>\n",
       "      <td>29.392476</td>\n",
       "      <td>0.475744</td>\n",
       "      <td>0.475744</td>\n",
       "      <td>0.386730</td>\n",
       "      <td>0.284061</td>\n",
       "      <td>0.444848</td>\n",
       "      <td>0.417576</td>\n",
       "      <td>0.412753</td>\n",
       "      <td>0.496928</td>\n",
       "      <td>0.001322</td>\n",
       "    </tr>\n",
       "    <tr>\n",
       "      <th>min</th>\n",
       "      <td>0.000000</td>\n",
       "      <td>0.420000</td>\n",
       "      <td>0.000000</td>\n",
       "      <td>0.000000</td>\n",
       "      <td>0.000000</td>\n",
       "      <td>0.000000</td>\n",
       "      <td>0.000000</td>\n",
       "      <td>0.000000</td>\n",
       "      <td>0.000000</td>\n",
       "      <td>0.000000</td>\n",
       "      <td>0.000000</td>\n",
       "      <td>0.000000</td>\n",
       "      <td>0.000000</td>\n",
       "      <td>0.001125</td>\n",
       "    </tr>\n",
       "    <tr>\n",
       "      <th>25%</th>\n",
       "      <td>0.000000</td>\n",
       "      <td>22.000000</td>\n",
       "      <td>0.000000</td>\n",
       "      <td>0.000000</td>\n",
       "      <td>7.895800</td>\n",
       "      <td>0.000000</td>\n",
       "      <td>0.000000</td>\n",
       "      <td>0.000000</td>\n",
       "      <td>0.000000</td>\n",
       "      <td>0.000000</td>\n",
       "      <td>0.000000</td>\n",
       "      <td>0.000000</td>\n",
       "      <td>0.000000</td>\n",
       "      <td>0.001125</td>\n",
       "    </tr>\n",
       "    <tr>\n",
       "      <th>50%</th>\n",
       "      <td>0.000000</td>\n",
       "      <td>29.642093</td>\n",
       "      <td>0.000000</td>\n",
       "      <td>0.000000</td>\n",
       "      <td>13.000000</td>\n",
       "      <td>0.000000</td>\n",
       "      <td>1.000000</td>\n",
       "      <td>0.000000</td>\n",
       "      <td>0.000000</td>\n",
       "      <td>1.000000</td>\n",
       "      <td>0.000000</td>\n",
       "      <td>0.000000</td>\n",
       "      <td>1.000000</td>\n",
       "      <td>0.001125</td>\n",
       "    </tr>\n",
       "    <tr>\n",
       "      <th>75%</th>\n",
       "      <td>1.000000</td>\n",
       "      <td>34.000000</td>\n",
       "      <td>1.000000</td>\n",
       "      <td>0.000000</td>\n",
       "      <td>27.900000</td>\n",
       "      <td>1.000000</td>\n",
       "      <td>1.000000</td>\n",
       "      <td>0.000000</td>\n",
       "      <td>0.000000</td>\n",
       "      <td>1.000000</td>\n",
       "      <td>0.000000</td>\n",
       "      <td>0.000000</td>\n",
       "      <td>1.000000</td>\n",
       "      <td>0.002250</td>\n",
       "    </tr>\n",
       "    <tr>\n",
       "      <th>max</th>\n",
       "      <td>1.000000</td>\n",
       "      <td>64.000000</td>\n",
       "      <td>4.000000</td>\n",
       "      <td>3.000000</td>\n",
       "      <td>164.866700</td>\n",
       "      <td>1.000000</td>\n",
       "      <td>1.000000</td>\n",
       "      <td>1.000000</td>\n",
       "      <td>1.000000</td>\n",
       "      <td>1.000000</td>\n",
       "      <td>1.000000</td>\n",
       "      <td>1.000000</td>\n",
       "      <td>1.000000</td>\n",
       "      <td>0.007874</td>\n",
       "    </tr>\n",
       "  </tbody>\n",
       "</table>\n",
       "</div>"
      ],
      "text/plain": [
       "         Survived         Age       SibSp       Parch        Fare  Sex_female  \\\n",
       "count  837.000000  837.000000  837.000000  837.000000  837.000000  837.000000   \n",
       "mean     0.387097   29.095032    0.433692    0.298686   25.832665    0.345281   \n",
       "std      0.487377   12.241444    0.812264    0.627641   29.392476    0.475744   \n",
       "min      0.000000    0.420000    0.000000    0.000000    0.000000    0.000000   \n",
       "25%      0.000000   22.000000    0.000000    0.000000    7.895800    0.000000   \n",
       "50%      0.000000   29.642093    0.000000    0.000000   13.000000    0.000000   \n",
       "75%      1.000000   34.000000    1.000000    0.000000   27.900000    1.000000   \n",
       "max      1.000000   64.000000    4.000000    3.000000  164.866700    1.000000   \n",
       "\n",
       "         Sex_male  Embarked_C  Embarked_Q  Embarked_S    Pclass_1    Pclass_2  \\\n",
       "count  837.000000  837.000000  837.000000  837.000000  837.000000  837.000000   \n",
       "mean     0.654719    0.182796    0.088411    0.728793    0.224612    0.217443   \n",
       "std      0.475744    0.386730    0.284061    0.444848    0.417576    0.412753   \n",
       "min      0.000000    0.000000    0.000000    0.000000    0.000000    0.000000   \n",
       "25%      0.000000    0.000000    0.000000    0.000000    0.000000    0.000000   \n",
       "50%      1.000000    0.000000    0.000000    1.000000    0.000000    0.000000   \n",
       "75%      1.000000    0.000000    0.000000    1.000000    0.000000    0.000000   \n",
       "max      1.000000    1.000000    1.000000    1.000000    1.000000    1.000000   \n",
       "\n",
       "         Pclass_3  Ticket_freq  \n",
       "count  837.000000   837.000000  \n",
       "mean     0.557945     0.001864  \n",
       "std      0.496928     0.001322  \n",
       "min      0.000000     0.001125  \n",
       "25%      0.000000     0.001125  \n",
       "50%      1.000000     0.001125  \n",
       "75%      1.000000     0.002250  \n",
       "max      1.000000     0.007874  "
      ]
     },
     "execution_count": 42,
     "metadata": {},
     "output_type": "execute_result"
    }
   ],
   "source": [
    "train_data.describe()"
   ]
  },
  {
   "cell_type": "markdown",
   "id": "a389556a",
   "metadata": {},
   "source": [
    "### Standardization"
   ]
  },
  {
   "cell_type": "code",
   "execution_count": 43,
   "id": "91ed4256",
   "metadata": {},
   "outputs": [],
   "source": [
    "from sklearn.preprocessing import StandardScaler\n",
    "\n",
    "def standarddization(data, columns):\n",
    "    scaler = StandardScaler()\n",
    "    data[columns] = scaler.fit_transform(data[columns])"
   ]
  },
  {
   "cell_type": "code",
   "execution_count": 44,
   "id": "5d07b714",
   "metadata": {},
   "outputs": [],
   "source": [
    "cols = ['Age', 'SibSp', 'Parch', 'Fare']\n",
    "standarddization(train_data, cols)"
   ]
  },
  {
   "cell_type": "markdown",
   "id": "d3c1bf32",
   "metadata": {},
   "source": [
    "## Visualize Data"
   ]
  },
  {
   "cell_type": "code",
   "execution_count": 45,
   "id": "c5cf4f5a",
   "metadata": {},
   "outputs": [
    {
     "data": {
      "image/png": "[encoded data removed]",
      "text/plain": [
       "<Figure size 1440x1440 with 16 Axes>"
      ]
     },
     "metadata": {
      "needs_background": "light"
     },
     "output_type": "display_data"
    }
   ],
   "source": [
    "train_data.hist(bins=50, figsize=(20, 20))\n",
    "plt.show()"
   ]
  },
  {
   "cell_type": "markdown",
   "id": "06488552",
   "metadata": {},
   "source": [
    "## SVM Model"
   ]
  },
  {
   "cell_type": "markdown",
   "id": "a589cc2e",
   "metadata": {},
   "source": [
    "### Split Train & Test Sets"
   ]
  },
  {
   "cell_type": "code",
   "execution_count": 46,
   "id": "cb1b4582",
   "metadata": {},
   "outputs": [],
   "source": [
    "from sklearn.model_selection import train_test_split\n",
    "\n",
    "train_set, test_set = train_test_split(train_data, test_size=0.2)"
   ]
  },
  {
   "cell_type": "code",
   "execution_count": 47,
   "id": "69e104f0",
   "metadata": {},
   "outputs": [],
   "source": [
    "X_train = train_set.drop(\"Survived\", axis=1)\n",
    "y_train = train_set[\"Survived\"]\n",
    "\n",
    "X_test = test_set.drop(\"Survived\", axis=1)\n",
    "y_test = test_set[\"Survived\"]"
   ]
  },
  {
   "cell_type": "markdown",
   "id": "ae93c010",
   "metadata": {},
   "source": [
    "### SVM Models with Different Parameters"
   ]
  },
  {
   "cell_type": "code",
   "execution_count": 48,
   "id": "32a4c77f",
   "metadata": {},
   "outputs": [],
   "source": [
    "from sklearn.svm import SVC\n",
    "\n",
    "svm_models = []\n",
    "\n",
    "C = [1, 10, 20, 50]\n",
    "kernel = ['poly', 'rbf']\n",
    "gamma = ['scale', 'auto']\n",
    "\n",
    "for c in C:\n",
    "    for k in kernel:\n",
    "        for g in gamma:\n",
    "            svm_models.append(SVC(C=c, kernel=k, gamma=g))"
   ]
  },
  {
   "cell_type": "markdown",
   "id": "bbff6242",
   "metadata": {},
   "source": [
    "### Cross Validation"
   ]
  },
  {
   "cell_type": "code",
   "execution_count": 49,
   "id": "45cd9815",
   "metadata": {},
   "outputs": [
    {
     "name": "stdout",
     "output_type": "stream",
     "text": [
      "SVC(C=1, kernel='poly')\n",
      "0.7380370925877695 \n",
      "\n",
      "SVC(C=1, gamma='auto', kernel='poly')\n",
      "0.5840870280767586 \n",
      "\n",
      "SVC(C=1)\n",
      "0.7414803066349458 \n",
      "\n",
      "SVC(C=1, gamma='auto')\n",
      "0.7471182412358883 \n",
      "\n",
      "SVC(C=10, kernel='poly')\n",
      "0.7201585931599956 \n",
      "\n",
      "SVC(C=10, gamma='auto', kernel='poly')\n",
      "0.7380370925877695 \n",
      "\n",
      "SVC(C=10)\n",
      "0.7184345074101587 \n",
      "\n",
      "SVC(C=10, gamma='auto')\n",
      "0.7198364622444722 \n",
      "\n",
      "SVC(C=20, kernel='poly')\n",
      "0.7119657002036865 \n",
      "\n",
      "SVC(C=20, gamma='auto', kernel='poly')\n",
      "0.7315436244300876 \n",
      "\n",
      "SVC(C=20)\n",
      "0.7192977836295809 \n",
      "\n",
      "SVC(C=20, gamma='auto')\n",
      "0.7256908023670844 \n",
      "\n",
      "SVC(C=50, kernel='poly')\n",
      "0.7119777447316912 \n",
      "\n",
      "SVC(C=50, gamma='auto', kernel='poly')\n",
      "0.7231310244155293 \n",
      "\n",
      "SVC(C=50)\n",
      "0.6987078317791431 \n",
      "\n",
      "SVC(C=50, gamma='auto')\n",
      "0.7179247768426267 \n",
      "\n"
     ]
    }
   ],
   "source": [
    "from sklearn.model_selection import cross_val_score\n",
    "\n",
    "folds = 5\n",
    "\n",
    "for model in svm_models:\n",
    "    score = cross_val_score(model, X_train, y_train, cv=5, scoring=\"f1\")\n",
    "    avg = np.sum(score)/folds\n",
    "    print(model)\n",
    "    print(avg, '\\n')"
   ]
  },
  {
   "cell_type": "markdown",
   "id": "65080f67",
   "metadata": {},
   "source": [
    "Best svm model is SVC(C=1, gamma='auto')\n",
    "    "
   ]
  },
  {
   "cell_type": "markdown",
   "id": "dd633384",
   "metadata": {},
   "source": [
    "### Train with Best Parameters"
   ]
  },
  {
   "cell_type": "code",
   "execution_count": 50,
   "id": "21ce04a7",
   "metadata": {},
   "outputs": [
    {
     "data": {
      "text/plain": [
       "SVC(C=1, gamma='auto')"
      ]
     },
     "execution_count": 50,
     "metadata": {},
     "output_type": "execute_result"
    }
   ],
   "source": [
    "clf = SVC(C=1, gamma='auto')\n",
    "clf.fit(X_train, y_train)"
   ]
  },
  {
   "cell_type": "markdown",
   "id": "c079d086",
   "metadata": {},
   "source": [
    "### Prediction"
   ]
  },
  {
   "cell_type": "code",
   "execution_count": 51,
   "id": "eee7a37a",
   "metadata": {},
   "outputs": [],
   "source": [
    "y_pred = clf.predict(X_test)"
   ]
  },
  {
   "cell_type": "markdown",
   "id": "5da986f5",
   "metadata": {},
   "source": [
    "### Some Metrics for Evaluation Score"
   ]
  },
  {
   "cell_type": "code",
   "execution_count": 52,
   "id": "73414a5f",
   "metadata": {},
   "outputs": [],
   "source": [
    "from sklearn.metrics import f1_score\n",
    "from sklearn.metrics import precision_score\n",
    "from sklearn.metrics import recall_score\n",
    "\n",
    "f1_score = f1_score(y_test, y_pred)\n",
    "precision_score = precision_score(y_test, y_pred)\n",
    "recall_score = recall_score(y_test, y_pred)"
   ]
  },
  {
   "cell_type": "code",
   "execution_count": 53,
   "id": "9b8d894b",
   "metadata": {},
   "outputs": [
    {
     "name": "stdout",
     "output_type": "stream",
     "text": [
      "f1_score: 0.7457627118644068\n",
      "precision_score: 0.7857142857142857\n",
      "recall_score: 0.7096774193548387\n"
     ]
    }
   ],
   "source": [
    "print('f1_score:', f1_score)\n",
    "print('precision_score:', precision_score)\n",
    "print('recall_score:', recall_score)"
   ]
  },
  {
   "cell_type": "code",
   "execution_count": 54,
   "id": "6c5c4f65",
   "metadata": {},
   "outputs": [
    {
     "data": {
      "image/png": "[encoded data removed]",
      "text/plain": [
       "<Figure size 432x288 with 1 Axes>"
      ]
     },
     "metadata": {
      "needs_background": "light"
     },
     "output_type": "display_data"
    }
   ],
   "source": [
    "plt.plot(y_test[0: 15], X_test.index[0: 15], 'ro')\n",
    "plt.plot(y_pred[0: 15], X_test.index[0: 15], 'y.')\n",
    "plt.show()"
   ]
  },
  {
   "cell_type": "markdown",
   "id": "b1d0519a",
   "metadata": {},
   "source": [
    "## Test"
   ]
  },
  {
   "cell_type": "code",
   "execution_count": 55,
   "id": "53226e01",
   "metadata": {},
   "outputs": [],
   "source": [
    "test_data = pd.read_csv('dataset/test.csv',  index_col=0)"
   ]
  },
  {
   "cell_type": "code",
   "execution_count": 56,
   "id": "d753f642",
   "metadata": {},
   "outputs": [
    {
     "data": {
      "text/plain": [
       "(418, 10)"
      ]
     },
     "execution_count": 56,
     "metadata": {},
     "output_type": "execute_result"
    }
   ],
   "source": [
    "test_data.shape"
   ]
  },
  {
   "cell_type": "code",
   "execution_count": 57,
   "id": "e3620824",
   "metadata": {},
   "outputs": [
    {
     "name": "stdout",
     "output_type": "stream",
     "text": [
      "Total Age NaN Entries: 86\n",
      "Total Fare NaN Entries: 1\n",
      "Total Cabin NaN Entries: 327\n"
     ]
    }
   ],
   "source": [
    "columns = nan_column_names(test_data)\n",
    "total_nan_entries(test_data, columns)"
   ]
  },
  {
   "cell_type": "code",
   "execution_count": 58,
   "id": "bd6ec220",
   "metadata": {},
   "outputs": [],
   "source": [
    "remove_column_nan_entries(test_data, ['Fare'])\n",
    "remove_nan_columns(test_data, ['Cabin', 'Name'])\n",
    "fill_nan_column_entries(test_data, 'Age', test_data['Age'].mean())"
   ]
  },
  {
   "cell_type": "code",
   "execution_count": 59,
   "id": "b10174b4",
   "metadata": {},
   "outputs": [],
   "source": [
    "test_data = one_hot_enc(test_data, ['Sex', 'Embarked', 'Pclass'])\n",
    "frequency_enc(test_data, 'Ticket')"
   ]
  },
  {
   "cell_type": "code",
   "execution_count": 60,
   "id": "858d7a2b",
   "metadata": {},
   "outputs": [],
   "source": [
    "test_data = remove_outliers(test_data, 'Age', age_q)\n",
    "test_data = remove_outliers(test_data, 'Fare', fare_q)\n",
    "test_data = remove_outliers(test_data, 'SibSp', sibsp_q)\n",
    "test_data = remove_outliers(test_data, 'Parch', parch_q)"
   ]
  },
  {
   "cell_type": "code",
   "execution_count": 61,
   "id": "f4f606c8",
   "metadata": {},
   "outputs": [],
   "source": [
    "cols = ['Age', 'SibSp', 'Parch', 'Fare']\n",
    "standarddization(test_data, cols)"
   ]
  },
  {
   "cell_type": "markdown",
   "id": "9a588d99",
   "metadata": {},
   "source": [
    "### Make Predictions"
   ]
  },
  {
   "cell_type": "code",
   "execution_count": 62,
   "id": "7aaabfec",
   "metadata": {},
   "outputs": [],
   "source": [
    "prediction = clf.predict(test_data)"
   ]
  },
  {
   "cell_type": "markdown",
   "id": "4011d9f7",
   "metadata": {},
   "source": [
    "# KNN Model"
   ]
  },
  {
   "cell_type": "markdown",
   "id": "2ffd0486",
   "metadata": {},
   "source": [
    "## Implementation"
   ]
  },
  {
   "cell_type": "code",
   "execution_count": 63,
   "id": "b26d226b",
   "metadata": {},
   "outputs": [],
   "source": [
    "from typing import Optional\n",
    "from pydantic import BaseModel, Extra, Field, validate_arguments"
   ]
  },
  {
   "cell_type": "code",
   "execution_count": 64,
   "id": "0b15f571",
   "metadata": {},
   "outputs": [],
   "source": [
    "class KNN(BaseModel):\n",
    "    \n",
    "    k: int = Field(3, ge=0)\n",
    "    X_train: list = None\n",
    "    y_train: list = None\n",
    "    n_classes: int = None\n",
    "    trained: bool = Field(False, const=True)\n",
    "    \n",
    "    class Config:\n",
    "        extra = Extra.allow\n",
    "        arbitrary_types_allowed = True\n",
    "        \n",
    "    @validate_arguments\n",
    "    def fit(self, X, y):\n",
    "        self.X_train = X.to_numpy()\n",
    "        self.y_train = y.to_numpy()\n",
    "        self.n_classes = len(np.unique(y))\n",
    "        self.trained = True\n",
    "        \n",
    "    @validate_arguments\n",
    "    def predict(self, X_test):\n",
    "        if self.is_trained():\n",
    "            X_test = X_test.to_numpy()\n",
    "            n_samples_test = X_test.shape[0]\n",
    "            \n",
    "            vote = np.ones((n_samples_test), dtype=np.int64) * -1\n",
    "            for i in range(n_samples_test):\n",
    "                dist = KNN._dist(self.X_train, X_test[i, :])\n",
    "                neighbors = []\n",
    "                for j in range(self.k):\n",
    "                    min_dist_index = np.argsort(dist)[j]\n",
    "                    neighbors.append(self.y_train[min_dist_index])\n",
    "                if self.k - np.sum(neighbors) > self.k / self.n_classes:\n",
    "                    vote[i] = 0\n",
    "                else:\n",
    "                    vote[i] = 1\n",
    "\n",
    "            return vote\n",
    "        \n",
    "    def is_trained(self):\n",
    "        if self.trained:\n",
    "            return True\n",
    "        raise ReferenceError(\"You need to train the model. Run `.fit()` method to this.\")\n",
    "        \n",
    "    @staticmethod\n",
    "    def _dist(train, test):\n",
    "        return np.sqrt(np.sum((train - test)**2, axis=1))"
   ]
  },
  {
   "cell_type": "markdown",
   "id": "7f586771",
   "metadata": {},
   "source": [
    "### Split Train & Test Sets"
   ]
  },
  {
   "cell_type": "code",
   "execution_count": 65,
   "id": "ce8d9ed4",
   "metadata": {},
   "outputs": [],
   "source": [
    "X_train = train_set.drop(\"Survived\", axis=1)\n",
    "y_train = train_set[\"Survived\"]\n",
    "\n",
    "X_test = test_set.drop(\"Survived\", axis=1)\n",
    "y_test = test_set[\"Survived\"]"
   ]
  },
  {
   "cell_type": "markdown",
   "id": "3f4a134d",
   "metadata": {},
   "source": [
    "### KNN Models with Different K"
   ]
  },
  {
   "cell_type": "code",
   "execution_count": 66,
   "id": "4f6f4fd6",
   "metadata": {
    "scrolled": false
   },
   "outputs": [],
   "source": [
    "from sklearn.neighbors import KNeighborsClassifier\n",
    "\n",
    "knn_models=[]\n",
    "\n",
    "K = [3, 5, 7, 9, 11, 13, 15, 17, 19, 21, 23, 25]\n",
    "\n",
    "for k in K:\n",
    "    knn_models.append(KNeighborsClassifier(n_neighbors=k))"
   ]
  },
  {
   "cell_type": "markdown",
   "id": "6a546c89",
   "metadata": {},
   "source": [
    "### Cross Validation"
   ]
  },
  {
   "cell_type": "code",
   "execution_count": 67,
   "id": "a91ec2ec",
   "metadata": {},
   "outputs": [
    {
     "name": "stdout",
     "output_type": "stream",
     "text": [
      "KNeighborsClassifier(n_neighbors=3)\n",
      "0.7154514939380283 \n",
      "\n",
      "KNeighborsClassifier()\n",
      "0.7206364667078953 \n",
      "\n",
      "KNeighborsClassifier(n_neighbors=7)\n",
      "0.6947645151989776 \n",
      "\n",
      "KNeighborsClassifier(n_neighbors=9)\n",
      "0.6901863511361992 \n",
      "\n",
      "KNeighborsClassifier(n_neighbors=11)\n",
      "0.7062624724370051 \n",
      "\n",
      "KNeighborsClassifier(n_neighbors=13)\n",
      "0.7102419080043884 \n",
      "\n",
      "KNeighborsClassifier(n_neighbors=15)\n",
      "0.7100811831030942 \n",
      "\n",
      "KNeighborsClassifier(n_neighbors=17)\n",
      "0.7097316143567884 \n",
      "\n",
      "KNeighborsClassifier(n_neighbors=19)\n",
      "0.7126578196986506 \n",
      "\n",
      "KNeighborsClassifier(n_neighbors=21)\n",
      "0.7199793064556212 \n",
      "\n",
      "KNeighborsClassifier(n_neighbors=23)\n",
      "0.7286124897905001 \n",
      "\n",
      "KNeighborsClassifier(n_neighbors=25)\n",
      "0.7165468017870764 \n",
      "\n"
     ]
    }
   ],
   "source": [
    "from sklearn.model_selection import cross_val_score\n",
    "\n",
    "folds = 5\n",
    "\n",
    "for model in knn_models:\n",
    "    score = cross_val_score(model, X_train, y_train, cv=5, scoring=\"f1\")\n",
    "    avg = np.sum(score)/folds\n",
    "    print(model)\n",
    "    print(avg, '\\n')"
   ]
  },
  {
   "cell_type": "markdown",
   "id": "08b13ae6",
   "metadata": {},
   "source": [
    "### Train with Best K"
   ]
  },
  {
   "cell_type": "code",
   "execution_count": 68,
   "id": "2ee7ea4a",
   "metadata": {},
   "outputs": [],
   "source": [
    "knn = KNN(k=9)\n",
    "knn.fit(X_train, y_train)"
   ]
  },
  {
   "cell_type": "markdown",
   "id": "4618da0c",
   "metadata": {},
   "source": [
    "### Prediction"
   ]
  },
  {
   "cell_type": "code",
   "execution_count": 69,
   "id": "579a20cf",
   "metadata": {},
   "outputs": [],
   "source": [
    "y_pred = knn.predict(X_test)"
   ]
  },
  {
   "cell_type": "markdown",
   "id": "b47775eb",
   "metadata": {},
   "source": [
    "### Some Metrics for Evaluation Score"
   ]
  },
  {
   "cell_type": "code",
   "execution_count": 70,
   "id": "94a5ff76",
   "metadata": {},
   "outputs": [],
   "source": [
    "from sklearn.metrics import f1_score\n",
    "from sklearn.metrics import precision_score\n",
    "from sklearn.metrics import recall_score\n",
    "\n",
    "f1_score = f1_score(y_test, y_pred)\n",
    "precision_score = precision_score(y_test, y_pred)\n",
    "recall_score = recall_score(y_test, y_pred)"
   ]
  },
  {
   "cell_type": "code",
   "execution_count": 71,
   "id": "b4da4134",
   "metadata": {},
   "outputs": [
    {
     "name": "stdout",
     "output_type": "stream",
     "text": [
      "f1_score: 0.7868852459016393\n",
      "precision_score: 0.8\n",
      "recall_score: 0.7741935483870968\n"
     ]
    }
   ],
   "source": [
    "print('f1_score:', f1_score)\n",
    "print('precision_score:', precision_score)\n",
    "print('recall_score:', recall_score)"
   ]
  },
  {
   "cell_type": "code",
   "execution_count": 72,
   "id": "229a5b86",
   "metadata": {},
   "outputs": [
    {
     "data": {
      "image/png": "[encoded data removed]",
      "text/plain": [
       "<Figure size 432x288 with 1 Axes>"
      ]
     },
     "metadata": {
      "needs_background": "light"
     },
     "output_type": "display_data"
    }
   ],
   "source": [
    "plt.plot(y_test[0: 15], X_test.index[0: 15], 'ro')\n",
    "plt.plot(y_pred[0: 15], X_test.index[0: 15], 'y.')\n",
    "plt.show()"
   ]
  },
  {
   "cell_type": "markdown",
   "id": "7228247b",
   "metadata": {},
   "source": [
    "### Make Predictions"
   ]
  },
  {
   "cell_type": "code",
   "execution_count": 73,
   "id": "18a07ae7",
   "metadata": {},
   "outputs": [],
   "source": [
    "prediction = knn.predict(test_data)"
   ]
  }
 ],
 "metadata": {
  "kernelspec": {
   "display_name": "Python 3 (ipykernel)",
   "language": "python",
   "name": "python3"
  },
  "language_info": {
   "codemirror_mode": {
    "name": "ipython",
    "version": 3
   },
   "file_extension": ".py",
   "mimetype": "text/x-python",
   "name": "python",
   "nbconvert_exporter": "python",
   "pygments_lexer": "ipython3",
   "version": "3.9.5"
  }
 },
 "nbformat": 4,
 "nbformat_minor": 5
}
